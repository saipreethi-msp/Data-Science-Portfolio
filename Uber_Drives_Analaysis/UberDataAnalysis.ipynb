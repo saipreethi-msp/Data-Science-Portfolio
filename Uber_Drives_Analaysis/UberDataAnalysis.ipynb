{
 "cells": [
  {
   "cell_type": "code",
   "execution_count": 362,
   "id": "d7661df8-9e6a-4ce5-ac10-cfc3e33b3e9b",
   "metadata": {},
   "outputs": [],
   "source": [
    "import numpy as np # linear algebra\n",
    "import pandas as pd # data processing, CSV file I/O (e.g. pd.read_csv)\n",
    "import matplotlib.pyplot as plt\n",
    "import seaborn as sns\n",
    "import calendar"
   ]
  },
  {
   "cell_type": "code",
   "execution_count": 364,
   "id": "c75bf110-a9af-47b6-9f1e-54cd971ddcae",
   "metadata": {},
   "outputs": [
    {
     "data": {
      "text/html": [
       "<div>\n",
       "<style scoped>\n",
       "    .dataframe tbody tr th:only-of-type {\n",
       "        vertical-align: middle;\n",
       "    }\n",
       "\n",
       "    .dataframe tbody tr th {\n",
       "        vertical-align: top;\n",
       "    }\n",
       "\n",
       "    .dataframe thead th {\n",
       "        text-align: right;\n",
       "    }\n",
       "</style>\n",
       "<table border=\"1\" class=\"dataframe\">\n",
       "  <thead>\n",
       "    <tr style=\"text-align: right;\">\n",
       "      <th></th>\n",
       "      <th>START_DATE*</th>\n",
       "      <th>END_DATE*</th>\n",
       "      <th>CATEGORY*</th>\n",
       "      <th>START*</th>\n",
       "      <th>STOP*</th>\n",
       "      <th>MILES*</th>\n",
       "      <th>PURPOSE*</th>\n",
       "    </tr>\n",
       "  </thead>\n",
       "  <tbody>\n",
       "    <tr>\n",
       "      <th>0</th>\n",
       "      <td>1/1/2016 21:11</td>\n",
       "      <td>1/1/2016 21:17</td>\n",
       "      <td>Business</td>\n",
       "      <td>Fort Pierce</td>\n",
       "      <td>Fort Pierce</td>\n",
       "      <td>5.1</td>\n",
       "      <td>Meal/Entertain</td>\n",
       "    </tr>\n",
       "    <tr>\n",
       "      <th>1</th>\n",
       "      <td>1/2/2016 1:25</td>\n",
       "      <td>1/2/2016 1:37</td>\n",
       "      <td>Business</td>\n",
       "      <td>Fort Pierce</td>\n",
       "      <td>Fort Pierce</td>\n",
       "      <td>5.0</td>\n",
       "      <td>NaN</td>\n",
       "    </tr>\n",
       "    <tr>\n",
       "      <th>2</th>\n",
       "      <td>1/2/2016 20:25</td>\n",
       "      <td>1/2/2016 20:38</td>\n",
       "      <td>Business</td>\n",
       "      <td>Fort Pierce</td>\n",
       "      <td>Fort Pierce</td>\n",
       "      <td>4.8</td>\n",
       "      <td>Errand/Supplies</td>\n",
       "    </tr>\n",
       "    <tr>\n",
       "      <th>3</th>\n",
       "      <td>1/5/2016 17:31</td>\n",
       "      <td>1/5/2016 17:45</td>\n",
       "      <td>Business</td>\n",
       "      <td>Fort Pierce</td>\n",
       "      <td>Fort Pierce</td>\n",
       "      <td>4.7</td>\n",
       "      <td>Meeting</td>\n",
       "    </tr>\n",
       "    <tr>\n",
       "      <th>4</th>\n",
       "      <td>1/6/2016 14:42</td>\n",
       "      <td>1/6/2016 15:49</td>\n",
       "      <td>Business</td>\n",
       "      <td>Fort Pierce</td>\n",
       "      <td>West Palm Beach</td>\n",
       "      <td>63.7</td>\n",
       "      <td>Customer Visit</td>\n",
       "    </tr>\n",
       "  </tbody>\n",
       "</table>\n",
       "</div>"
      ],
      "text/plain": [
       "      START_DATE*       END_DATE* CATEGORY*       START*            STOP*  \\\n",
       "0  1/1/2016 21:11  1/1/2016 21:17  Business  Fort Pierce      Fort Pierce   \n",
       "1   1/2/2016 1:25   1/2/2016 1:37  Business  Fort Pierce      Fort Pierce   \n",
       "2  1/2/2016 20:25  1/2/2016 20:38  Business  Fort Pierce      Fort Pierce   \n",
       "3  1/5/2016 17:31  1/5/2016 17:45  Business  Fort Pierce      Fort Pierce   \n",
       "4  1/6/2016 14:42  1/6/2016 15:49  Business  Fort Pierce  West Palm Beach   \n",
       "\n",
       "   MILES*         PURPOSE*  \n",
       "0     5.1   Meal/Entertain  \n",
       "1     5.0              NaN  \n",
       "2     4.8  Errand/Supplies  \n",
       "3     4.7          Meeting  \n",
       "4    63.7   Customer Visit  "
      ]
     },
     "execution_count": 364,
     "metadata": {},
     "output_type": "execute_result"
    }
   ],
   "source": [
    "#Read the csv file\n",
    "df = pd.read_csv('My Uber Drives - 2016.csv')\n",
    "df.head()"
   ]
  },
  {
   "cell_type": "code",
   "execution_count": 366,
   "id": "2f857a20-4b56-40b0-b10c-9fcca4585f26",
   "metadata": {},
   "outputs": [
    {
     "name": "stdout",
     "output_type": "stream",
     "text": [
      "<class 'pandas.core.frame.DataFrame'>\n",
      "RangeIndex: 1156 entries, 0 to 1155\n",
      "Data columns (total 7 columns):\n",
      " #   Column       Non-Null Count  Dtype  \n",
      "---  ------       --------------  -----  \n",
      " 0   START_DATE*  1156 non-null   object \n",
      " 1   END_DATE*    1155 non-null   object \n",
      " 2   CATEGORY*    1155 non-null   object \n",
      " 3   START*       1155 non-null   object \n",
      " 4   STOP*        1155 non-null   object \n",
      " 5   MILES*       1156 non-null   float64\n",
      " 6   PURPOSE*     653 non-null    object \n",
      "dtypes: float64(1), object(6)\n",
      "memory usage: 63.3+ KB\n"
     ]
    }
   ],
   "source": [
    "df.info()"
   ]
  },
  {
   "cell_type": "code",
   "execution_count": 368,
   "id": "127d9ae5-fdc1-4f64-93c7-cd6a1c9ee9b4",
   "metadata": {},
   "outputs": [
    {
     "name": "stdout",
     "output_type": "stream",
     "text": [
      "(1156, 7)\n"
     ]
    },
    {
     "data": {
      "text/plain": [
       "START_DATE*     object\n",
       "END_DATE*       object\n",
       "CATEGORY*       object\n",
       "START*          object\n",
       "STOP*           object\n",
       "MILES*         float64\n",
       "PURPOSE*        object\n",
       "dtype: object"
      ]
     },
     "execution_count": 368,
     "metadata": {},
     "output_type": "execute_result"
    }
   ],
   "source": [
    "#Know the dataypes\n",
    "print(df.shape)\n",
    "df.dtypes"
   ]
  },
  {
   "cell_type": "code",
   "execution_count": 370,
   "id": "eab18ccb-7be3-4fba-9022-71afdec052af",
   "metadata": {},
   "outputs": [
    {
     "data": {
      "text/plain": [
       "START_DATE*      0\n",
       "END_DATE*        1\n",
       "CATEGORY*        1\n",
       "START*           1\n",
       "STOP*            1\n",
       "MILES*           0\n",
       "PURPOSE*       503\n",
       "dtype: int64"
      ]
     },
     "execution_count": 370,
     "metadata": {},
     "output_type": "execute_result"
    }
   ],
   "source": [
    "#Any null values\n",
    "df.isna().sum()"
   ]
  },
  {
   "cell_type": "code",
   "execution_count": 372,
   "id": "04fa1275-f1b2-4ec7-925f-d9102be5fcbc",
   "metadata": {},
   "outputs": [
    {
     "data": {
      "text/html": [
       "<div>\n",
       "<style scoped>\n",
       "    .dataframe tbody tr th:only-of-type {\n",
       "        vertical-align: middle;\n",
       "    }\n",
       "\n",
       "    .dataframe tbody tr th {\n",
       "        vertical-align: top;\n",
       "    }\n",
       "\n",
       "    .dataframe thead th {\n",
       "        text-align: right;\n",
       "    }\n",
       "</style>\n",
       "<table border=\"1\" class=\"dataframe\">\n",
       "  <thead>\n",
       "    <tr style=\"text-align: right;\">\n",
       "      <th></th>\n",
       "      <th>START_DATE*</th>\n",
       "      <th>END_DATE*</th>\n",
       "      <th>CATEGORY*</th>\n",
       "      <th>START*</th>\n",
       "      <th>STOP*</th>\n",
       "      <th>MILES*</th>\n",
       "      <th>PURPOSE*</th>\n",
       "    </tr>\n",
       "  </thead>\n",
       "  <tbody>\n",
       "    <tr>\n",
       "      <th>1155</th>\n",
       "      <td>Totals</td>\n",
       "      <td>NaN</td>\n",
       "      <td>NaN</td>\n",
       "      <td>NaN</td>\n",
       "      <td>NaN</td>\n",
       "      <td>12204.7</td>\n",
       "      <td>NaN</td>\n",
       "    </tr>\n",
       "  </tbody>\n",
       "</table>\n",
       "</div>"
      ],
      "text/plain": [
       "     START_DATE* END_DATE* CATEGORY* START* STOP*   MILES* PURPOSE*\n",
       "1155      Totals       NaN       NaN    NaN   NaN  12204.7      NaN"
      ]
     },
     "execution_count": 372,
     "metadata": {},
     "output_type": "execute_result"
    }
   ],
   "source": [
    "#where is the end date null\n",
    "df[df['END_DATE*'].isna()]"
   ]
  },
  {
   "cell_type": "code",
   "execution_count": 374,
   "id": "4b4fc0fd-a403-40e1-9c09-43db049664ba",
   "metadata": {},
   "outputs": [],
   "source": [
    "#Remove the particular row\n",
    "df.drop(1155,inplace = True)"
   ]
  },
  {
   "cell_type": "code",
   "execution_count": 382,
   "id": "03fc4cb1-74ae-450c-9397-dbd627853d37",
   "metadata": {},
   "outputs": [
    {
     "data": {
      "text/plain": [
       "START_DATE*    0\n",
       "END_DATE*      0\n",
       "CATEGORY*      0\n",
       "START*         0\n",
       "STOP*          0\n",
       "MILES*         0\n",
       "PURPOSE*       0\n",
       "dtype: int64"
      ]
     },
     "execution_count": 382,
     "metadata": {},
     "output_type": "execute_result"
    }
   ],
   "source": [
    "#Again check any null values\n",
    "#replacing missing values with PURPOSE* equals to \"other\"\n",
    "df['PURPOSE*'].replace(np.nan, 'Other', inplace=True)\n",
    "df.isna().sum()"
   ]
  },
  {
   "cell_type": "code",
   "execution_count": 384,
   "id": "6bfa799a-65d1-4ccd-8632-2a8f297d2629",
   "metadata": {},
   "outputs": [
    {
     "name": "stdout",
     "output_type": "stream",
     "text": [
      "<class 'pandas.core.frame.DataFrame'>\n",
      "RangeIndex: 1155 entries, 0 to 1154\n",
      "Data columns (total 7 columns):\n",
      " #   Column       Non-Null Count  Dtype  \n",
      "---  ------       --------------  -----  \n",
      " 0   START_DATE*  1155 non-null   object \n",
      " 1   END_DATE*    1155 non-null   object \n",
      " 2   CATEGORY*    1155 non-null   object \n",
      " 3   START*       1155 non-null   object \n",
      " 4   STOP*        1155 non-null   object \n",
      " 5   MILES*       1155 non-null   float64\n",
      " 6   PURPOSE*     1155 non-null   object \n",
      "dtypes: float64(1), object(6)\n",
      "memory usage: 63.3+ KB\n"
     ]
    }
   ],
   "source": [
    "df.info()"
   ]
  },
  {
   "cell_type": "code",
   "execution_count": 386,
   "id": "d69f6f7c-01ed-446c-a5de-1d86bc83ca5a",
   "metadata": {},
   "outputs": [
    {
     "data": {
      "text/html": [
       "<div>\n",
       "<style scoped>\n",
       "    .dataframe tbody tr th:only-of-type {\n",
       "        vertical-align: middle;\n",
       "    }\n",
       "\n",
       "    .dataframe tbody tr th {\n",
       "        vertical-align: top;\n",
       "    }\n",
       "\n",
       "    .dataframe thead th {\n",
       "        text-align: right;\n",
       "    }\n",
       "</style>\n",
       "<table border=\"1\" class=\"dataframe\">\n",
       "  <thead>\n",
       "    <tr style=\"text-align: right;\">\n",
       "      <th></th>\n",
       "      <th>START_DATE*</th>\n",
       "      <th>END_DATE*</th>\n",
       "      <th>CATEGORY*</th>\n",
       "      <th>START*</th>\n",
       "      <th>STOP*</th>\n",
       "      <th>MILES*</th>\n",
       "      <th>PURPOSE*</th>\n",
       "    </tr>\n",
       "  </thead>\n",
       "  <tbody>\n",
       "    <tr>\n",
       "      <th>492</th>\n",
       "      <td>6/28/2016 23:34</td>\n",
       "      <td>6/28/2016 23:59</td>\n",
       "      <td>Business</td>\n",
       "      <td>Durham</td>\n",
       "      <td>Cary</td>\n",
       "      <td>9.9</td>\n",
       "      <td>Meeting</td>\n",
       "    </tr>\n",
       "  </tbody>\n",
       "</table>\n",
       "</div>"
      ],
      "text/plain": [
       "         START_DATE*        END_DATE* CATEGORY*  START* STOP*  MILES* PURPOSE*\n",
       "492  6/28/2016 23:34  6/28/2016 23:59  Business  Durham  Cary     9.9  Meeting"
      ]
     },
     "execution_count": 386,
     "metadata": {},
     "output_type": "execute_result"
    }
   ],
   "source": [
    "#Any duplicate values\n",
    "df[df.duplicated()]"
   ]
  },
  {
   "cell_type": "code",
   "execution_count": 388,
   "id": "cf10e43a-3562-4f9c-9fd2-8d2b3fde6d1f",
   "metadata": {},
   "outputs": [],
   "source": [
    "#Remove the duplicates\n",
    "df.drop(492,inplace = True)"
   ]
  },
  {
   "cell_type": "markdown",
   "id": "66dc4a6d-d16e-4a73-8e33-f4dcca578fcc",
   "metadata": {},
   "source": [
    "**Converting start_date and end_date cols into datetime**"
   ]
  },
  {
   "cell_type": "code",
   "execution_count": 391,
   "id": "1b5efe69-d166-4d39-ab7d-de0a18059938",
   "metadata": {},
   "outputs": [],
   "source": [
    "df['START_DATE*'] = pd.to_datetime(df['START_DATE*'], format='%m/%d/%Y %H:%M')"
   ]
  },
  {
   "cell_type": "code",
   "execution_count": 393,
   "id": "9844050c-190f-46a6-a79c-a8a2ea794d63",
   "metadata": {},
   "outputs": [
    {
     "data": {
      "text/plain": [
       "START_DATE*    datetime64[ns]\n",
       "END_DATE*      datetime64[ns]\n",
       "CATEGORY*              object\n",
       "START*                 object\n",
       "STOP*                  object\n",
       "MILES*                float64\n",
       "PURPOSE*               object\n",
       "dtype: object"
      ]
     },
     "execution_count": 393,
     "metadata": {},
     "output_type": "execute_result"
    }
   ],
   "source": [
    "df['END_DATE*'] = pd.to_datetime(df['END_DATE*'], format='%m/%d/%Y %H:%M')\n",
    "df.dtypes"
   ]
  },
  {
   "cell_type": "markdown",
   "id": "99a5ea5c-f38d-4f6c-897b-7186d5389225",
   "metadata": {},
   "source": [
    "## Exploratory Data Analysis ##"
   ]
  },
  {
   "cell_type": "code",
   "execution_count": 396,
   "id": "42b69980-c77b-4c8b-a142-622d3ec3a6f0",
   "metadata": {},
   "outputs": [
    {
     "data": {
      "text/plain": [
       "array(['Business', 'Personal'], dtype=object)"
      ]
     },
     "execution_count": 396,
     "metadata": {},
     "output_type": "execute_result"
    }
   ],
   "source": [
    "df['CATEGORY*'].unique()"
   ]
  },
  {
   "cell_type": "markdown",
   "id": "aec97512-5614-4189-8db4-3f497388a86b",
   "metadata": {},
   "source": [
    "There are two categories : Business and Personal"
   ]
  },
  {
   "cell_type": "code",
   "execution_count": 399,
   "id": "1d64fe82-abe4-4607-a98e-f899035d7b41",
   "metadata": {},
   "outputs": [
    {
     "data": {
      "text/html": [
       "<div>\n",
       "<style scoped>\n",
       "    .dataframe tbody tr th:only-of-type {\n",
       "        vertical-align: middle;\n",
       "    }\n",
       "\n",
       "    .dataframe tbody tr th {\n",
       "        vertical-align: top;\n",
       "    }\n",
       "\n",
       "    .dataframe thead th {\n",
       "        text-align: right;\n",
       "    }\n",
       "</style>\n",
       "<table border=\"1\" class=\"dataframe\">\n",
       "  <thead>\n",
       "    <tr style=\"text-align: right;\">\n",
       "      <th></th>\n",
       "      <th>total miles</th>\n",
       "    </tr>\n",
       "    <tr>\n",
       "      <th>CATEGORY*</th>\n",
       "      <th></th>\n",
       "    </tr>\n",
       "  </thead>\n",
       "  <tbody>\n",
       "    <tr>\n",
       "      <th>Business</th>\n",
       "      <td>11477.1</td>\n",
       "    </tr>\n",
       "    <tr>\n",
       "      <th>Personal</th>\n",
       "      <td>717.7</td>\n",
       "    </tr>\n",
       "  </tbody>\n",
       "</table>\n",
       "</div>"
      ],
      "text/plain": [
       "           total miles\n",
       "CATEGORY*             \n",
       "Business       11477.1\n",
       "Personal         717.7"
      ]
     },
     "execution_count": 399,
     "metadata": {},
     "output_type": "execute_result"
    }
   ],
   "source": [
    "df[['CATEGORY*', 'MILES*']].groupby(['CATEGORY*']).sum().rename(columns={'MILES*':'total miles'})"
   ]
  },
  {
   "cell_type": "code",
   "execution_count": 401,
   "id": "ac3aae3a-ed87-4756-bf19-9dbb992f42f1",
   "metadata": {},
   "outputs": [
    {
     "data": {
      "text/plain": [
       "<Axes: xlabel='CATEGORY*'>"
      ]
     },
     "execution_count": 401,
     "metadata": {},
     "output_type": "execute_result"
    },
    {
     "data": {
      "image/png": "[encoded data removed]",
      "text/plain": [
       "<Figure size 640x480 with 1 Axes>"
      ]
     },
     "metadata": {},
     "output_type": "display_data"
    }
   ],
   "source": [
    "df[['CATEGORY*', 'MILES*']].groupby(['CATEGORY*']).agg(total_miles = ('MILES*','sum')).plot.bar()"
   ]
  },
  {
   "cell_type": "code",
   "execution_count": 403,
   "id": "e21c7e8a-3b36-4911-b2d9-15808d4111eb",
   "metadata": {},
   "outputs": [
    {
     "name": "stdout",
     "output_type": "stream",
     "text": [
      "0.9411470462820218\n",
      "0.05880375241906386\n"
     ]
    }
   ],
   "source": [
    "print(11477.1/(11477.1+717.7))\n",
    "print(717.1/(11477.1+717.7))"
   ]
  },
  {
   "cell_type": "markdown",
   "id": "28556037-a75f-4e5d-8da0-7de22624612f",
   "metadata": {},
   "source": [
    "- It shows that around 94% uses the uber cab for business trips \n",
    "- only 6% uses it for personal trips"
   ]
  },
  {
   "cell_type": "code",
   "execution_count": 406,
   "id": "6ec1c698-2f2b-4c2a-a862-eec419c691c5",
   "metadata": {},
   "outputs": [
    {
     "data": {
      "text/plain": [
       "177"
      ]
     },
     "execution_count": 406,
     "metadata": {},
     "output_type": "execute_result"
    }
   ],
   "source": [
    "len(df['START*'].unique())"
   ]
  },
  {
   "cell_type": "markdown",
   "id": "2dcb90a2-2a63-42e0-8c9e-ecf57d3f63ca",
   "metadata": {},
   "source": [
    "There are around 177 unique start points"
   ]
  },
  {
   "cell_type": "markdown",
   "id": "44e67197-ec6a-45c4-8ac6-e122de2a3b8c",
   "metadata": {},
   "source": [
    "## Top 10 Starting Locations ##"
   ]
  },
  {
   "cell_type": "code",
   "execution_count": 410,
   "id": "a9953de3-3911-436b-a1e5-27746af91ea1",
   "metadata": {},
   "outputs": [
    {
     "data": {
      "text/plain": [
       "START*\n",
       "Cary                201\n",
       "Unknown Location    148\n",
       "Morrisville          85\n",
       "Whitebridge          68\n",
       "Islamabad            57\n",
       "Lahore               36\n",
       "Durham               36\n",
       "Raleigh              28\n",
       "Kar?chi              27\n",
       "Westpark Place       17\n",
       "Apex                 17\n",
       "Berkeley             16\n",
       "Midtown              14\n",
       "Kenner               11\n",
       "Kissimmee            11\n",
       "Name: count, dtype: int64"
      ]
     },
     "execution_count": 410,
     "metadata": {},
     "output_type": "execute_result"
    }
   ],
   "source": [
    "df['START*'].value_counts().head(15)"
   ]
  },
  {
   "cell_type": "code",
   "execution_count": 496,
   "id": "5b672da0-f8bb-4241-b489-b644ea2d90da",
   "metadata": {},
   "outputs": [
    {
     "data": {
      "text/plain": [
       "<Axes: title={'center': 'Top 10 pickup locations'}, xlabel='Count', ylabel='LOCATIONS'>"
      ]
     },
     "execution_count": 496,
     "metadata": {},
     "output_type": "execute_result"
    },
    {
     "data": {
      "image/png": "[encoded data removed]",
      "text/plain": [
       "<Figure size 640x480 with 1 Axes>"
      ]
     },
     "metadata": {},
     "output_type": "display_data"
    }
   ],
   "source": [
    "df['START*'].value_counts().head(10).plot.barh(ylabel= 'LOCATIONS',xlabel = 'Count', title= 'Top 10 pickup locations')\n"
   ]
  },
  {
   "cell_type": "markdown",
   "id": "25cc7b28-3e2c-4a7b-92a0-bdddbd8802e7",
   "metadata": {},
   "source": [
    " **Cary is the most popular starting point**"
   ]
  },
  {
   "cell_type": "markdown",
   "id": "79292f1a-7261-4543-8337-b621f24f99b9",
   "metadata": {},
   "source": [
    "## Top 10 Dropping locations ##"
   ]
  },
  {
   "cell_type": "code",
   "execution_count": 416,
   "id": "c2c91d47-710f-4789-8b2b-b90ce8b809a0",
   "metadata": {},
   "outputs": [
    {
     "data": {
      "text/plain": [
       "STOP*\n",
       "Cary                202\n",
       "Unknown Location    149\n",
       "Morrisville          84\n",
       "Whitebridge          65\n",
       "Islamabad            58\n",
       "Durham               36\n",
       "Lahore               36\n",
       "Raleigh              29\n",
       "Kar?chi              26\n",
       "Apex                 17\n",
       "Name: count, dtype: int64"
      ]
     },
     "execution_count": 416,
     "metadata": {},
     "output_type": "execute_result"
    }
   ],
   "source": [
    "df['STOP*'].value_counts().head(10)"
   ]
  },
  {
   "cell_type": "code",
   "execution_count": 418,
   "id": "8aff149e-33f5-400e-bd4d-6daebe63cb9e",
   "metadata": {},
   "outputs": [
    {
     "data": {
      "text/plain": [
       "<Axes: title={'center': 'Top 10 dropping locations'}, xlabel='Count', ylabel='LOCATIONS'>"
      ]
     },
     "execution_count": 418,
     "metadata": {},
     "output_type": "execute_result"
    },
    {
     "data": {
      "image/png": "[encoded data removed]",
      "text/plain": [
       "<Figure size 640x480 with 1 Axes>"
      ]
     },
     "metadata": {},
     "output_type": "display_data"
    }
   ],
   "source": [
    "df['STOP*'].value_counts().head(10).plot.barh(ylabel= 'LOCATIONS',xlabel = 'Count', title= 'Top 10 dropping locations')\n"
   ]
  },
  {
   "cell_type": "markdown",
   "id": "873c0c42-f89f-4c78-9c46-8bf41c4a6df5",
   "metadata": {},
   "source": [
    " **Cary is the most popular dropping point**\n",
    " \n",
    " **May be the user's home is in Cary**"
   ]
  },
  {
   "cell_type": "markdown",
   "id": "3a6af0e6-e1b0-4624-83e1-e1ca72c3c942",
   "metadata": {},
   "source": [
    "### Adding hours, day, month, weekday ###"
   ]
  },
  {
   "cell_type": "code",
   "execution_count": 422,
   "id": "d1f8b5e7-f5b2-456c-b18c-e514a38a9c8c",
   "metadata": {},
   "outputs": [],
   "source": [
    "hour = []\n",
    "day = []\n",
    "month = []\n",
    "weekday = []\n",
    "dayofweek = []\n",
    "for i in df['START_DATE*']:\n",
    "    hour.append(i.hour)\n",
    "    month.append(i.month)\n",
    "    day.append(i.day)\n",
    "    dayofweek.append(i.day_of_week)\n",
    "    weekday.append(calendar.day_name[dayofweek[-1]])\n",
    "df['HOUR'] = hour\n",
    "df['MONTH']=month\n",
    "df['DAY']=day\n",
    "df['DAYOFWEEK']=dayofweek\n",
    "df['WEEKDAY']=weekday"
   ]
  },
  {
   "cell_type": "code",
   "execution_count": 424,
   "id": "1a615399-7279-44dd-8479-8502bca7f06f",
   "metadata": {},
   "outputs": [
    {
     "data": {
      "text/html": [
       "<div>\n",
       "<style scoped>\n",
       "    .dataframe tbody tr th:only-of-type {\n",
       "        vertical-align: middle;\n",
       "    }\n",
       "\n",
       "    .dataframe tbody tr th {\n",
       "        vertical-align: top;\n",
       "    }\n",
       "\n",
       "    .dataframe thead th {\n",
       "        text-align: right;\n",
       "    }\n",
       "</style>\n",
       "<table border=\"1\" class=\"dataframe\">\n",
       "  <thead>\n",
       "    <tr style=\"text-align: right;\">\n",
       "      <th></th>\n",
       "      <th>START_DATE*</th>\n",
       "      <th>END_DATE*</th>\n",
       "      <th>CATEGORY*</th>\n",
       "      <th>START*</th>\n",
       "      <th>STOP*</th>\n",
       "      <th>MILES*</th>\n",
       "      <th>PURPOSE*</th>\n",
       "      <th>HOUR</th>\n",
       "      <th>MONTH</th>\n",
       "      <th>DAY</th>\n",
       "      <th>DAYOFWEEK</th>\n",
       "      <th>WEEKDAY</th>\n",
       "    </tr>\n",
       "  </thead>\n",
       "  <tbody>\n",
       "    <tr>\n",
       "      <th>0</th>\n",
       "      <td>2016-01-01 21:11:00</td>\n",
       "      <td>2016-01-01 21:17:00</td>\n",
       "      <td>Business</td>\n",
       "      <td>Fort Pierce</td>\n",
       "      <td>Fort Pierce</td>\n",
       "      <td>5.1</td>\n",
       "      <td>Meal/Entertain</td>\n",
       "      <td>21</td>\n",
       "      <td>1</td>\n",
       "      <td>1</td>\n",
       "      <td>4</td>\n",
       "      <td>Friday</td>\n",
       "    </tr>\n",
       "    <tr>\n",
       "      <th>1</th>\n",
       "      <td>2016-01-02 01:25:00</td>\n",
       "      <td>2016-01-02 01:37:00</td>\n",
       "      <td>Business</td>\n",
       "      <td>Fort Pierce</td>\n",
       "      <td>Fort Pierce</td>\n",
       "      <td>5.0</td>\n",
       "      <td>Other</td>\n",
       "      <td>1</td>\n",
       "      <td>1</td>\n",
       "      <td>2</td>\n",
       "      <td>5</td>\n",
       "      <td>Saturday</td>\n",
       "    </tr>\n",
       "    <tr>\n",
       "      <th>2</th>\n",
       "      <td>2016-01-02 20:25:00</td>\n",
       "      <td>2016-01-02 20:38:00</td>\n",
       "      <td>Business</td>\n",
       "      <td>Fort Pierce</td>\n",
       "      <td>Fort Pierce</td>\n",
       "      <td>4.8</td>\n",
       "      <td>Errand/Supplies</td>\n",
       "      <td>20</td>\n",
       "      <td>1</td>\n",
       "      <td>2</td>\n",
       "      <td>5</td>\n",
       "      <td>Saturday</td>\n",
       "    </tr>\n",
       "    <tr>\n",
       "      <th>3</th>\n",
       "      <td>2016-01-05 17:31:00</td>\n",
       "      <td>2016-01-05 17:45:00</td>\n",
       "      <td>Business</td>\n",
       "      <td>Fort Pierce</td>\n",
       "      <td>Fort Pierce</td>\n",
       "      <td>4.7</td>\n",
       "      <td>Meeting</td>\n",
       "      <td>17</td>\n",
       "      <td>1</td>\n",
       "      <td>5</td>\n",
       "      <td>1</td>\n",
       "      <td>Tuesday</td>\n",
       "    </tr>\n",
       "    <tr>\n",
       "      <th>4</th>\n",
       "      <td>2016-01-06 14:42:00</td>\n",
       "      <td>2016-01-06 15:49:00</td>\n",
       "      <td>Business</td>\n",
       "      <td>Fort Pierce</td>\n",
       "      <td>West Palm Beach</td>\n",
       "      <td>63.7</td>\n",
       "      <td>Customer Visit</td>\n",
       "      <td>14</td>\n",
       "      <td>1</td>\n",
       "      <td>6</td>\n",
       "      <td>2</td>\n",
       "      <td>Wednesday</td>\n",
       "    </tr>\n",
       "  </tbody>\n",
       "</table>\n",
       "</div>"
      ],
      "text/plain": [
       "          START_DATE*           END_DATE* CATEGORY*       START*  \\\n",
       "0 2016-01-01 21:11:00 2016-01-01 21:17:00  Business  Fort Pierce   \n",
       "1 2016-01-02 01:25:00 2016-01-02 01:37:00  Business  Fort Pierce   \n",
       "2 2016-01-02 20:25:00 2016-01-02 20:38:00  Business  Fort Pierce   \n",
       "3 2016-01-05 17:31:00 2016-01-05 17:45:00  Business  Fort Pierce   \n",
       "4 2016-01-06 14:42:00 2016-01-06 15:49:00  Business  Fort Pierce   \n",
       "\n",
       "             STOP*  MILES*         PURPOSE*  HOUR  MONTH  DAY  DAYOFWEEK  \\\n",
       "0      Fort Pierce     5.1   Meal/Entertain    21      1    1          4   \n",
       "1      Fort Pierce     5.0            Other     1      1    2          5   \n",
       "2      Fort Pierce     4.8  Errand/Supplies    20      1    2          5   \n",
       "3      Fort Pierce     4.7          Meeting    17      1    5          1   \n",
       "4  West Palm Beach    63.7   Customer Visit    14      1    6          2   \n",
       "\n",
       "     WEEKDAY  \n",
       "0     Friday  \n",
       "1   Saturday  \n",
       "2   Saturday  \n",
       "3    Tuesday  \n",
       "4  Wednesday  "
      ]
     },
     "execution_count": 424,
     "metadata": {},
     "output_type": "execute_result"
    }
   ],
   "source": [
    "df.head()"
   ]
  },
  {
   "cell_type": "markdown",
   "id": "245919b1-9058-4da5-81de-849bf84c77c7",
   "metadata": {},
   "source": [
    "## Which day the user travels more?"
   ]
  },
  {
   "cell_type": "code",
   "execution_count": 427,
   "id": "6927ae27-dd15-494e-b7c4-95429880dc31",
   "metadata": {},
   "outputs": [
    {
     "data": {
      "text/plain": [
       "WEEKDAY\n",
       "Friday       206\n",
       "Tuesday      175\n",
       "Monday       174\n",
       "Thursday     154\n",
       "Saturday     150\n",
       "Sunday       148\n",
       "Wednesday    147\n",
       "Name: count, dtype: int64"
      ]
     },
     "execution_count": 427,
     "metadata": {},
     "output_type": "execute_result"
    }
   ],
   "source": [
    "df['WEEKDAY'].value_counts()"
   ]
  },
  {
   "cell_type": "code",
   "execution_count": 429,
   "id": "506d730f-f616-44f3-afdd-f0789d848825",
   "metadata": {},
   "outputs": [
    {
     "data": {
      "text/plain": [
       "<Axes: title={'center': 'No of trips in Weekdays'}, xlabel='WEEKDAY', ylabel='TRIPS'>"
      ]
     },
     "execution_count": 429,
     "metadata": {},
     "output_type": "execute_result"
    },
    {
     "data": {
      "image/png": "[encoded data removed]",
      "text/plain": [
       "<Figure size 640x480 with 1 Axes>"
      ]
     },
     "metadata": {},
     "output_type": "display_data"
    }
   ],
   "source": [
    "df['WEEKDAY'].value_counts().plot.bar(ylabel= 'TRIPS',title = 'No of trips in Weekdays')"
   ]
  },
  {
   "cell_type": "markdown",
   "id": "57a884d2-d064-4c62-9a43-7545e1c4e542",
   "metadata": {},
   "source": [
    "**On Friday the user travels more**"
   ]
  },
  {
   "cell_type": "markdown",
   "id": "71cde3fe-95b4-4878-93d3-071c7c01569f",
   "metadata": {
    "tags": []
   },
   "source": [
    "## Which hour travels more "
   ]
  },
  {
   "cell_type": "code",
   "execution_count": 433,
   "id": "c3361db2-825a-4981-8d3c-7a67db6d8061",
   "metadata": {},
   "outputs": [
    {
     "data": {
      "text/plain": [
       "HOUR\n",
       "15    98\n",
       "17    95\n",
       "13    94\n",
       "18    94\n",
       "14    89\n",
       "16    88\n",
       "12    77\n",
       "11    72\n",
       "20    71\n",
       "19    68\n",
       "10    65\n",
       "9     51\n",
       "21    51\n",
       "8     35\n",
       "22    31\n",
       "23    25\n",
       "0     19\n",
       "7     13\n",
       "1      5\n",
       "5      4\n",
       "6      4\n",
       "3      3\n",
       "2      2\n",
       "Name: count, dtype: int64"
      ]
     },
     "execution_count": 433,
     "metadata": {},
     "output_type": "execute_result"
    }
   ],
   "source": [
    "df['HOUR'].value_counts()"
   ]
  },
  {
   "cell_type": "code",
   "execution_count": 435,
   "id": "9bc4dce6-6f2b-4b5a-8e98-740225f66068",
   "metadata": {},
   "outputs": [
    {
     "data": {
      "text/plain": [
       "<Axes: title={'center': 'TRIPS VS HOUR'}, xlabel='HOUR', ylabel='TRIPS'>"
      ]
     },
     "execution_count": 435,
     "metadata": {},
     "output_type": "execute_result"
    },
    {
     "data": {
      "image/png": "[encoded data removed]",
      "text/plain": [
       "<Figure size 640x480 with 1 Axes>"
      ]
     },
     "metadata": {},
     "output_type": "display_data"
    }
   ],
   "source": [
    "df['HOUR'].value_counts().plot.bar(ylabel = 'TRIPS', title = 'TRIPS VS HOUR')"
   ]
  },
  {
   "cell_type": "markdown",
   "id": "75f84144-b7f5-41b3-9634-303ff80ecbe2",
   "metadata": {},
   "source": [
    "**At 15:00 user takes frequent trips**"
   ]
  },
  {
   "cell_type": "markdown",
   "id": "5212a36b-ba59-4964-818c-079efbc88d38",
   "metadata": {},
   "source": [
    "## Purpose of trips"
   ]
  },
  {
   "cell_type": "code",
   "execution_count": 439,
   "id": "6a89778d-b377-40a8-8125-ed69e500ace7",
   "metadata": {},
   "outputs": [
    {
     "data": {
      "text/plain": [
       "PURPOSE*\n",
       "Other              502\n",
       "Meeting            186\n",
       "Meal/Entertain     160\n",
       "Errand/Supplies    128\n",
       "Customer Visit     101\n",
       "Temporary Site      50\n",
       "Between Offices     18\n",
       "Moving               4\n",
       "Airport/Travel       3\n",
       "Charity ($)          1\n",
       "Commute              1\n",
       "Name: count, dtype: int64"
      ]
     },
     "execution_count": 439,
     "metadata": {},
     "output_type": "execute_result"
    }
   ],
   "source": [
    "df['PURPOSE*'].value_counts()"
   ]
  },
  {
   "cell_type": "code",
   "execution_count": 441,
   "id": "1b1756ea-9fcb-4e31-b8f9-7c5798c24e07",
   "metadata": {},
   "outputs": [
    {
     "data": {
      "text/plain": [
       "<Axes: ylabel='PURPOSE*'>"
      ]
     },
     "execution_count": 441,
     "metadata": {},
     "output_type": "execute_result"
    },
    {
     "data": {
      "image/png": "[encoded data removed]",
      "text/plain": [
       "<Figure size 640x480 with 1 Axes>"
      ]
     },
     "metadata": {},
     "output_type": "display_data"
    }
   ],
   "source": [
    "df['PURPOSE*'].value_counts().plot.barh()"
   ]
  },
  {
   "cell_type": "markdown",
   "id": "39cab723-cfaf-4e78-85e6-02cb00d5b683",
   "metadata": {},
   "source": [
    "## No of trips per each day"
   ]
  },
  {
   "cell_type": "code",
   "execution_count": 444,
   "id": "43310ea7-63fe-4e37-ae0a-a88d91ddfeb1",
   "metadata": {},
   "outputs": [
    {
     "data": {
      "text/plain": [
       "DAY\n",
       "19    67\n",
       "29    51\n",
       "27    51\n",
       "26    45\n",
       "22    45\n",
       "21    45\n",
       "12    44\n",
       "1     43\n",
       "16    42\n",
       "18    38\n",
       "20    38\n",
       "13    37\n",
       "11    37\n",
       "8     37\n",
       "28    35\n",
       "10    35\n",
       "25    35\n",
       "7     34\n",
       "23    34\n",
       "6     33\n",
       "14    33\n",
       "4     33\n",
       "5     33\n",
       "3     33\n",
       "17    33\n",
       "30    32\n",
       "2     30\n",
       "24    29\n",
       "9     29\n",
       "15    28\n",
       "31    15\n",
       "Name: count, dtype: int64"
      ]
     },
     "execution_count": 444,
     "metadata": {},
     "output_type": "execute_result"
    }
   ],
   "source": [
    "df['DAY'].value_counts()"
   ]
  },
  {
   "cell_type": "code",
   "execution_count": 449,
   "id": "d17729ae-bb93-4806-ace4-256e6bcb63bd",
   "metadata": {},
   "outputs": [
    {
     "data": {
      "text/plain": [
       "<Axes: title={'center': 'No of TRIPS vs DAY'}, xlabel='DAY', ylabel='TRIPS'>"
      ]
     },
     "execution_count": 449,
     "metadata": {},
     "output_type": "execute_result"
    },
    {
     "data": {
      "image/png": "[encoded data removed]",
      "text/plain": [
       "<Figure size 640x480 with 1 Axes>"
      ]
     },
     "metadata": {},
     "output_type": "display_data"
    }
   ],
   "source": [
    "df['DAY'].value_counts().plot.bar(ylabel = 'TRIPS', title= 'No of TRIPS vs DAY')"
   ]
  },
  {
   "cell_type": "markdown",
   "id": "b467bf3d-7e86-47c0-955a-339baf898d93",
   "metadata": {},
   "source": [
    "**On 19th the user takes more number of trips**"
   ]
  },
  {
   "cell_type": "markdown",
   "id": "95ce2f29-3bf7-4ca7-8e01-daf3caadf49a",
   "metadata": {},
   "source": [
    "## No of trips in a month"
   ]
  },
  {
   "cell_type": "code",
   "execution_count": 460,
   "id": "fc50b80c-54d7-4018-bb39-056db5a834ef",
   "metadata": {},
   "outputs": [
    {
     "data": {
      "text/plain": [
       "MONTH\n",
       "12    146\n",
       "8     133\n",
       "11    122\n",
       "2     115\n",
       "3     113\n",
       "7     112\n",
       "6     107\n",
       "10    106\n",
       "1      61\n",
       "4      54\n",
       "5      49\n",
       "9      36\n",
       "Name: count, dtype: int64"
      ]
     },
     "execution_count": 460,
     "metadata": {},
     "output_type": "execute_result"
    }
   ],
   "source": [
    "df['MONTH'].value_counts()"
   ]
  },
  {
   "cell_type": "code",
   "execution_count": 453,
   "id": "33c69e45-0a9a-4fd2-bcb2-a847d11c696c",
   "metadata": {},
   "outputs": [
    {
     "data": {
      "text/plain": [
       "<Axes: title={'center': 'No of TRIPS vs MONTH'}, xlabel='MONTH', ylabel='TRIPS'>"
      ]
     },
     "execution_count": 453,
     "metadata": {},
     "output_type": "execute_result"
    },
    {
     "data": {
      "image/png": "[encoded data removed]",
      "text/plain": [
       "<Figure size 640x480 with 1 Axes>"
      ]
     },
     "metadata": {},
     "output_type": "display_data"
    }
   ],
   "source": [
    "df['MONTH'].value_counts().plot.bar(ylabel = 'TRIPS', title= 'No of TRIPS vs MONTH')"
   ]
  },
  {
   "cell_type": "markdown",
   "id": "61a34c66-744f-4aa8-a624-8cdd076ca356",
   "metadata": {},
   "source": [
    "**On December the user takes more number of trips**"
   ]
  },
  {
   "cell_type": "markdown",
   "id": "eb5b1d43-3f63-476a-9430-f61b2229c41e",
   "metadata": {},
   "source": [
    "## Checking for Round trip"
   ]
  },
  {
   "cell_type": "code",
   "execution_count": 487,
   "id": "f797093b-5c77-4641-a076-8613ddc6d5da",
   "metadata": {},
   "outputs": [],
   "source": [
    "def is_roundtrip(df):\n",
    "    if df['START*'] == df['STOP*']:\n",
    "        return 'yes'\n",
    "    else:\n",
    "        return 'No'\n",
    "df['ROUND_TRIP*'] = df.apply(is_roundtrip, axis = 1)\n"
   ]
  },
  {
   "cell_type": "code",
   "execution_count": 489,
   "id": "b201c9ee-ae74-4b62-ac2e-3d3b3f61ff5b",
   "metadata": {},
   "outputs": [
    {
     "data": {
      "text/plain": [
       "ROUND_TRIP*\n",
       "No     866\n",
       "yes    288\n",
       "Name: count, dtype: int64"
      ]
     },
     "execution_count": 489,
     "metadata": {},
     "output_type": "execute_result"
    }
   ],
   "source": [
    "df['ROUND_TRIP*'].value_counts()\n"
   ]
  },
  {
   "cell_type": "code",
   "execution_count": 493,
   "id": "9462c71b-91f2-45a4-9c15-dc85427ac066",
   "metadata": {},
   "outputs": [
    {
     "data": {
      "text/plain": [
       "<Axes: xlabel='ROUND_TRIP*', ylabel='count'>"
      ]
     },
     "execution_count": 493,
     "metadata": {},
     "output_type": "execute_result"
    },
    {
     "data": {
      "image/png": "[encoded data removed]",
      "text/plain": [
       "<Figure size 640x480 with 1 Axes>"
      ]
     },
     "metadata": {},
     "output_type": "display_data"
    }
   ],
   "source": [
    "sns.countplot(x='ROUND_TRIP*',data = df)\n"
   ]
  },
  {
   "cell_type": "code",
   "execution_count": 542,
   "id": "05d14be7-9093-481f-a606-f3f48081e582",
   "metadata": {},
   "outputs": [
    {
     "data": {
      "text/plain": [
       "<Axes: xlabel='DAY', ylabel='Density'>"
      ]
     },
     "execution_count": 542,
     "metadata": {},
     "output_type": "execute_result"
    },
    {
     "data": {
      "image/png": "[encoded data removed]",
      "text/plain": [
       "<Figure size 800x500 with 1 Axes>"
      ]
     },
     "metadata": {},
     "output_type": "display_data"
    }
   ],
   "source": [
    "sns.set(rc={'figure.figsize':(8,5)})\n",
    "sns.histplot(df[\"DAY\"],kde = True,stat=\"density\")"
   ]
  },
  {
   "cell_type": "code",
   "execution_count": null,
   "id": "9e98dfe7-35e7-49c6-b242-98ee7f4046d6",
   "metadata": {},
   "outputs": [],
   "source": [
    "sns.histplot(df[\"DAY\"],kde = True,stat=\"density\")"
   ]
  }
 ],
 "metadata": {
  "kernelspec": {
   "display_name": "anaconda-panel-2023.05-py310",
   "language": "python",
   "name": "conda-env-anaconda-panel-2023.05-py310-py"
  },
  "language_info": {
   "codemirror_mode": {
    "name": "ipython",
    "version": 3
   },
   "file_extension": ".py",
   "mimetype": "text/x-python",
   "name": "python",
   "nbconvert_exporter": "python",
   "pygments_lexer": "ipython3",
   "version": "3.11.5"
  }
 },
 "nbformat": 4,
 "nbformat_minor": 5
}
